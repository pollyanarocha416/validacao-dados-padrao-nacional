{
 "cells": [
  {
   "cell_type": "code",
   "execution_count": 8,
   "metadata": {},
   "outputs": [],
   "source": [
    "class VerificaTudo:\n",
    "    def __init__(self, nome, idade, salario) -> None:\n",
    "        self.nome = nome\n",
    "        self.idade = idade\n",
    "        self.salario = salario\n",
    "\n",
    "    def verifica_nome(self):\n",
    "        nome = str(input('digite seu nome: '))\n",
    "        while len(nome) <= 3:\n",
    "            nome = str(input('O seu nome precisa ter mais de 3 caractere: '))\n",
    "        print('nome correto: ', nome)\n",
    "    \n",
    "\n",
    "    def verifica_idade(self):\n",
    "        idade = int(input('digite sua idade: '))\n",
    "        while idade > 150:\n",
    "            idade = int(input('A sua idade precisa ser menor que 150 anos: '))\n",
    "        print('idade correta: ', idade)\n",
    "    \n",
    "\n",
    "    def verifica_salario(self):\n",
    "        salario = int(input('digite seu salario: '))\n",
    "        while salario <= 0:\n",
    "            salario = int(input('O seu salario precisa ser maior que 0 e ter no minimo 4 digitos: '))\n",
    "        print('salario valido: ', salario)\n",
    "    \n"
   ]
  }
 ],
 "metadata": {
  "kernelspec": {
   "display_name": "Python 3",
   "language": "python",
   "name": "python3"
  },
  "language_info": {
   "codemirror_mode": {
    "name": "ipython",
    "version": 3
   },
   "file_extension": ".py",
   "mimetype": "text/x-python",
   "name": "python",
   "nbconvert_exporter": "python",
   "pygments_lexer": "ipython3",
   "version": "3.10.10"
  },
  "orig_nbformat": 4
 },
 "nbformat": 4,
 "nbformat_minor": 2
}
